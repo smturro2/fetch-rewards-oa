{
 "cells": [
  {
   "cell_type": "code",
   "execution_count": 129,
   "metadata": {},
   "outputs": [
    {
     "name": "stderr",
     "output_type": "stream",
     "text": [
      "INFO:database.database:Connection successful\n"
     ]
    },
    {
     "name": "stdout",
     "output_type": "stream",
     "text": [
      "Database initialized\n",
      "Pretending today is 2021-02-12 08:11:06.240000\n"
     ]
    }
   ],
   "source": [
    "import pandas as pd\n",
    "from datetime import datetime, timedelta\n",
    "from sqlalchemy import func, and_\n",
    "\n",
    "from database.database import Database\n",
    "from database.models import Brand, Receipt, Transaction, User\n",
    "\n",
    "db = Database()\n",
    "\n",
    "def start_of_month(date, month_shift=0):\n",
    "    \"\"\"Return the first day of the month for the given date.\"\"\"\n",
    "    year = date.year + (date.month + month_shift - 1) // 12\n",
    "    month = (date.month + month_shift - 1) % 12 + 1\n",
    "    return datetime(year, month, 1)\n",
    "\n",
    "def get_recent_user_creation(db):\n",
    "    with db.Session() as session:\n",
    "        query = (\n",
    "            session.query(\n",
    "                User.created_date,\n",
    "            )\n",
    "            .select_from(User)\n",
    "            .order_by(User.created_date.desc())\n",
    "            .limit(1)\n",
    "        )\n",
    "        results = query.all()\n",
    "        return results[0][0]\n",
    "\n",
    "# There are no recent users\n",
    "fake_date_now = get_recent_user_creation(db)\n",
    "print(f\"Pretending today is {fake_date_now}\")"
   ]
  },
  {
   "cell_type": "markdown",
   "metadata": {},
   "source": [
    "# Top 5 Brands by Receipts Scanned\n",
    "\n",
    "What are the top 5 brands by receipts scanned for most recent month?"
   ]
  },
  {
   "cell_type": "code",
   "execution_count": 138,
   "metadata": {},
   "outputs": [
    {
     "data": {
      "text/html": [
       "<div>\n",
       "<style scoped>\n",
       "    .dataframe tbody tr th:only-of-type {\n",
       "        vertical-align: middle;\n",
       "    }\n",
       "\n",
       "    .dataframe tbody tr th {\n",
       "        vertical-align: top;\n",
       "    }\n",
       "\n",
       "    .dataframe thead th {\n",
       "        text-align: right;\n",
       "    }\n",
       "</style>\n",
       "<table border=\"1\" class=\"dataframe\">\n",
       "  <thead>\n",
       "    <tr style=\"text-align: right;\">\n",
       "      <th></th>\n",
       "      <th>name</th>\n",
       "      <th>brand_code</th>\n",
       "      <th>total_receipts_scanned</th>\n",
       "    </tr>\n",
       "  </thead>\n",
       "  <tbody>\n",
       "    <tr>\n",
       "      <th>0</th>\n",
       "      <td>Pepsi</td>\n",
       "      <td>PEPSI</td>\n",
       "      <td>74</td>\n",
       "    </tr>\n",
       "    <tr>\n",
       "      <th>1</th>\n",
       "      <td>Kleenex</td>\n",
       "      <td>KLEENEX</td>\n",
       "      <td>70</td>\n",
       "    </tr>\n",
       "    <tr>\n",
       "      <th>2</th>\n",
       "      <td>KNORR</td>\n",
       "      <td>KNORR</td>\n",
       "      <td>60</td>\n",
       "    </tr>\n",
       "    <tr>\n",
       "      <th>3</th>\n",
       "      <td>Doritos</td>\n",
       "      <td>DORITOS</td>\n",
       "      <td>55</td>\n",
       "    </tr>\n",
       "    <tr>\n",
       "      <th>4</th>\n",
       "      <td>Kraft</td>\n",
       "      <td>KRAFT</td>\n",
       "      <td>28</td>\n",
       "    </tr>\n",
       "  </tbody>\n",
       "</table>\n",
       "</div>"
      ],
      "text/plain": [
       "      name brand_code  total_receipts_scanned\n",
       "0    Pepsi      PEPSI                      74\n",
       "1  Kleenex    KLEENEX                      70\n",
       "2    KNORR      KNORR                      60\n",
       "3  Doritos    DORITOS                      55\n",
       "4    Kraft      KRAFT                      28"
      ]
     },
     "execution_count": 138,
     "metadata": {},
     "output_type": "execute_result"
    }
   ],
   "source": [
    "def brand_with_most(db, sort_by_col, col_label=None, start_date=None, end_date=None, limit=5):\n",
    "    \"\"\"Determine top brand based on by_col\n",
    "    by_col: sql column, for example func.sum(Receipt.total_spent) for total spent\n",
    "    num_months is used to only consider users in the last num_months\"\"\"\n",
    "    with db.Session() as session:\n",
    "\n",
    "        query = (\n",
    "            session.query(\n",
    "                Brand.name,\n",
    "                Brand.brand_code,\n",
    "                sort_by_col.label(col_label)\n",
    "            )\n",
    "            .select_from(Transaction)\n",
    "            .join(Receipt, Receipt.id == Transaction.receipt_id)\n",
    "            .join(Brand, Brand.brand_code == Transaction.brand_code)\n",
    "            .join(User, User.id == Receipt.user_id)\n",
    "            .group_by(Brand.name, Brand.brand_code)\n",
    "            .order_by(sort_by_col.desc())\n",
    "        )\n",
    "        \n",
    "        if start_date:\n",
    "            query = query.filter(User.created_date >= start_date)\n",
    "        if end_date:\n",
    "            query = query.filter(User.created_date <= end_date)\n",
    "            \n",
    "        query = query.limit(limit)\n",
    "        \n",
    "        results = pd.read_sql_query(query.statement, session.bind)\n",
    "        return results\n",
    "    \n",
    "\n",
    "top_5_brands_last = brand_with_most(db,\n",
    "                                    sort_by_col=func.count(Receipt.id), \n",
    "                                    col_label=\"total_receipts_scanned\",\n",
    "                                    start_date=start_of_month(fake_date_now, -1), \n",
    "                                    end_date=start_of_month(fake_date_now, 0), \n",
    "                                    limit=5)\n",
    "top_5_brands_last"
   ]
  },
  {
   "cell_type": "markdown",
   "metadata": {},
   "source": [
    "# Change Top 5 Brands by Receipts Scanned\n",
    "\n",
    "How does the ranking of the top 5 brands by receipts scanned for the recent month compare to the ranking for\n",
    " the previous month?"
   ]
  },
  {
   "cell_type": "code",
   "execution_count": 141,
   "metadata": {},
   "outputs": [
    {
     "data": {
      "text/html": [
       "<div>\n",
       "<style scoped>\n",
       "    .dataframe tbody tr th:only-of-type {\n",
       "        vertical-align: middle;\n",
       "    }\n",
       "\n",
       "    .dataframe tbody tr th {\n",
       "        vertical-align: top;\n",
       "    }\n",
       "\n",
       "    .dataframe thead th {\n",
       "        text-align: right;\n",
       "    }\n",
       "</style>\n",
       "<table border=\"1\" class=\"dataframe\">\n",
       "  <thead>\n",
       "    <tr style=\"text-align: right;\">\n",
       "      <th></th>\n",
       "      <th>name</th>\n",
       "      <th>brand_code</th>\n",
       "      <th>total_receipts_scanned</th>\n",
       "    </tr>\n",
       "  </thead>\n",
       "  <tbody>\n",
       "  </tbody>\n",
       "</table>\n",
       "</div>"
      ],
      "text/plain": [
       "Empty DataFrame\n",
       "Columns: [name, brand_code, total_receipts_scanned]\n",
       "Index: []"
      ]
     },
     "execution_count": 141,
     "metadata": {},
     "output_type": "execute_result"
    }
   ],
   "source": [
    "top_5_brands_last = brand_with_most(db,\n",
    "                                    sort_by_col=func.count(Receipt.id), \n",
    "                                    col_label=\"total_receipts_scanned\",\n",
    "                                    start_date=start_of_month(fake_date_now, -2), \n",
    "                                    end_date=start_of_month(fake_date_now, -1), \n",
    "                                    limit=5)\n",
    "top_5_brands_last"
   ]
  },
  {
   "cell_type": "markdown",
   "metadata": {},
   "source": [
    "# Average spend from receipts\n",
    "When considering *average spend* from receipts with 'rewardsReceiptStatus’ of ‘Accepted’ or ‘Rejected’,\n",
    " which is greater?"
   ]
  },
  {
   "cell_type": "code",
   "execution_count": 132,
   "metadata": {},
   "outputs": [
    {
     "data": {
      "text/html": [
       "<div>\n",
       "<style scoped>\n",
       "    .dataframe tbody tr th:only-of-type {\n",
       "        vertical-align: middle;\n",
       "    }\n",
       "\n",
       "    .dataframe tbody tr th {\n",
       "        vertical-align: top;\n",
       "    }\n",
       "\n",
       "    .dataframe thead th {\n",
       "        text-align: right;\n",
       "    }\n",
       "</style>\n",
       "<table border=\"1\" class=\"dataframe\">\n",
       "  <thead>\n",
       "    <tr style=\"text-align: right;\">\n",
       "      <th></th>\n",
       "      <th>rewards_receipt_status</th>\n",
       "      <th>average_spend</th>\n",
       "    </tr>\n",
       "  </thead>\n",
       "  <tbody>\n",
       "    <tr>\n",
       "      <th>0</th>\n",
       "      <td>REJECTED</td>\n",
       "      <td>23.326056</td>\n",
       "    </tr>\n",
       "    <tr>\n",
       "      <th>1</th>\n",
       "      <td>FINISHED</td>\n",
       "      <td>80.854305</td>\n",
       "    </tr>\n",
       "  </tbody>\n",
       "</table>\n",
       "</div>"
      ],
      "text/plain": [
       "  rewards_receipt_status  average_spend\n",
       "0               REJECTED      23.326056\n",
       "1               FINISHED      80.854305"
      ]
     },
     "metadata": {},
     "output_type": "display_data"
    }
   ],
   "source": [
    "def compare_average_spend(db):\n",
    "    with db.Session() as session:\n",
    "        query = (\n",
    "            session.query(\n",
    "                Receipt.rewards_receipt_status,\n",
    "                func.avg(Receipt.total_spent).label('average_spend')\n",
    "            )\n",
    "            .select_from(Receipt)\n",
    "            .filter(Receipt.rewards_receipt_status.in_(['FINISHED', 'REJECTED']))\n",
    "            .group_by(Receipt.rewards_receipt_status)\n",
    "        )\n",
    "\n",
    "        results = pd.read_sql_query(query.statement, session.bind)\n",
    "    return results\n",
    "\n",
    "df_avg_spent = compare_average_spend(db)\n",
    "display(df_avg_spent)"
   ]
  },
  {
   "cell_type": "markdown",
   "metadata": {},
   "source": [
    "Assuming FINISHED means accepted: accepted receipts have about $60 more then rejected receipts "
   ]
  },
  {
   "cell_type": "markdown",
   "metadata": {},
   "source": [
    "# Total Items Purchased\n",
    "\n",
    "When considering *total number of items purchased* from receipts with 'rewardsReceiptStatus’ of\n",
    "‘Accepted’ or ‘Rejected’, which is greater?"
   ]
  },
  {
   "cell_type": "code",
   "execution_count": 133,
   "metadata": {},
   "outputs": [
    {
     "data": {
      "text/html": [
       "<div>\n",
       "<style scoped>\n",
       "    .dataframe tbody tr th:only-of-type {\n",
       "        vertical-align: middle;\n",
       "    }\n",
       "\n",
       "    .dataframe tbody tr th {\n",
       "        vertical-align: top;\n",
       "    }\n",
       "\n",
       "    .dataframe thead th {\n",
       "        text-align: right;\n",
       "    }\n",
       "</style>\n",
       "<table border=\"1\" class=\"dataframe\">\n",
       "  <thead>\n",
       "    <tr style=\"text-align: right;\">\n",
       "      <th></th>\n",
       "      <th>rewards_receipt_status</th>\n",
       "      <th>total_count</th>\n",
       "    </tr>\n",
       "  </thead>\n",
       "  <tbody>\n",
       "    <tr>\n",
       "      <th>0</th>\n",
       "      <td>REJECTED</td>\n",
       "      <td>173</td>\n",
       "    </tr>\n",
       "    <tr>\n",
       "      <th>1</th>\n",
       "      <td>FINISHED</td>\n",
       "      <td>8184</td>\n",
       "    </tr>\n",
       "  </tbody>\n",
       "</table>\n",
       "</div>"
      ],
      "text/plain": [
       "  rewards_receipt_status  total_count\n",
       "0               REJECTED          173\n",
       "1               FINISHED         8184"
      ]
     },
     "metadata": {},
     "output_type": "display_data"
    }
   ],
   "source": [
    "def compare_total_items(db):\n",
    "    with db.Session() as session:\n",
    "        query = (\n",
    "            session.query(\n",
    "                Receipt.rewards_receipt_status,\n",
    "                func.sum(Receipt.purchased_item_count).label('total_count')\n",
    "            )\n",
    "            .select_from(Receipt)\n",
    "            .filter(Receipt.rewards_receipt_status.in_(['FINISHED', 'REJECTED']))\n",
    "            .group_by(Receipt.rewards_receipt_status)\n",
    "        )\n",
    "\n",
    "        results = pd.read_sql_query(query.statement, session.bind)\n",
    "    return results\n",
    "\n",
    "df_total = compare_total_items(db)\n",
    "display(df_total)"
   ]
  },
  {
   "cell_type": "markdown",
   "metadata": {},
   "source": [
    "Significantly more items purcharse from accepted receipts."
   ]
  },
  {
   "cell_type": "markdown",
   "metadata": {},
   "source": [
    "# Brand with most spend\n",
    "Which brand has the most *spend* among users who were created within the past 6 months?"
   ]
  },
  {
   "cell_type": "code",
   "execution_count": 142,
   "metadata": {},
   "outputs": [
    {
     "data": {
      "text/html": [
       "<div>\n",
       "<style scoped>\n",
       "    .dataframe tbody tr th:only-of-type {\n",
       "        vertical-align: middle;\n",
       "    }\n",
       "\n",
       "    .dataframe tbody tr th {\n",
       "        vertical-align: top;\n",
       "    }\n",
       "\n",
       "    .dataframe thead th {\n",
       "        text-align: right;\n",
       "    }\n",
       "</style>\n",
       "<table border=\"1\" class=\"dataframe\">\n",
       "  <thead>\n",
       "    <tr style=\"text-align: right;\">\n",
       "      <th></th>\n",
       "      <th>name</th>\n",
       "      <th>brand_code</th>\n",
       "      <th>total_spent</th>\n",
       "    </tr>\n",
       "  </thead>\n",
       "  <tbody>\n",
       "    <tr>\n",
       "      <th>0</th>\n",
       "      <td>Pepsi</td>\n",
       "      <td>PEPSI</td>\n",
       "      <td>78870.86</td>\n",
       "    </tr>\n",
       "    <tr>\n",
       "      <th>1</th>\n",
       "      <td>Kraft</td>\n",
       "      <td>KRAFT</td>\n",
       "      <td>70858.88</td>\n",
       "    </tr>\n",
       "    <tr>\n",
       "      <th>2</th>\n",
       "      <td>KNORR</td>\n",
       "      <td>KNORR</td>\n",
       "      <td>61157.05</td>\n",
       "    </tr>\n",
       "    <tr>\n",
       "      <th>3</th>\n",
       "      <td>Kleenex</td>\n",
       "      <td>KLEENEX</td>\n",
       "      <td>56050.44</td>\n",
       "    </tr>\n",
       "    <tr>\n",
       "      <th>4</th>\n",
       "      <td>Doritos</td>\n",
       "      <td>DORITOS</td>\n",
       "      <td>48321.46</td>\n",
       "    </tr>\n",
       "  </tbody>\n",
       "</table>\n",
       "</div>"
      ],
      "text/plain": [
       "      name brand_code  total_spent\n",
       "0    Pepsi      PEPSI     78870.86\n",
       "1    Kraft      KRAFT     70858.88\n",
       "2    KNORR      KNORR     61157.05\n",
       "3  Kleenex    KLEENEX     56050.44\n",
       "4  Doritos    DORITOS     48321.46"
      ]
     },
     "execution_count": 142,
     "metadata": {},
     "output_type": "execute_result"
    }
   ],
   "source": [
    "brands = brand_with_most(db,\n",
    "                         sort_by_col=func.sum(Receipt.total_spent), \n",
    "                         col_label=\"total_spent\",\n",
    "                         start_date=start_of_month(fake_date_now, -6), \n",
    "                         end_date=start_of_month(fake_date_now, 0), \n",
    "                         limit=5)\n",
    "brands"
   ]
  },
  {
   "cell_type": "markdown",
   "metadata": {},
   "source": []
  },
  {
   "cell_type": "markdown",
   "metadata": {},
   "source": [
    "# Brand with most transactions\n",
    "Which brand has the most *transactions* among users who were created within the past 6 months?"
   ]
  },
  {
   "cell_type": "code",
   "execution_count": 143,
   "metadata": {},
   "outputs": [
    {
     "data": {
      "text/html": [
       "<div>\n",
       "<style scoped>\n",
       "    .dataframe tbody tr th:only-of-type {\n",
       "        vertical-align: middle;\n",
       "    }\n",
       "\n",
       "    .dataframe tbody tr th {\n",
       "        vertical-align: top;\n",
       "    }\n",
       "\n",
       "    .dataframe thead th {\n",
       "        text-align: right;\n",
       "    }\n",
       "</style>\n",
       "<table border=\"1\" class=\"dataframe\">\n",
       "  <thead>\n",
       "    <tr style=\"text-align: right;\">\n",
       "      <th></th>\n",
       "      <th>name</th>\n",
       "      <th>brand_code</th>\n",
       "      <th>total_transactions</th>\n",
       "    </tr>\n",
       "  </thead>\n",
       "  <tbody>\n",
       "    <tr>\n",
       "      <th>0</th>\n",
       "      <td>Pepsi</td>\n",
       "      <td>PEPSI</td>\n",
       "      <td>74</td>\n",
       "    </tr>\n",
       "    <tr>\n",
       "      <th>1</th>\n",
       "      <td>Kleenex</td>\n",
       "      <td>KLEENEX</td>\n",
       "      <td>70</td>\n",
       "    </tr>\n",
       "    <tr>\n",
       "      <th>2</th>\n",
       "      <td>KNORR</td>\n",
       "      <td>KNORR</td>\n",
       "      <td>60</td>\n",
       "    </tr>\n",
       "    <tr>\n",
       "      <th>3</th>\n",
       "      <td>Doritos</td>\n",
       "      <td>DORITOS</td>\n",
       "      <td>55</td>\n",
       "    </tr>\n",
       "    <tr>\n",
       "      <th>4</th>\n",
       "      <td>Kraft</td>\n",
       "      <td>KRAFT</td>\n",
       "      <td>28</td>\n",
       "    </tr>\n",
       "  </tbody>\n",
       "</table>\n",
       "</div>"
      ],
      "text/plain": [
       "      name brand_code  total_transactions\n",
       "0    Pepsi      PEPSI                  74\n",
       "1  Kleenex    KLEENEX                  70\n",
       "2    KNORR      KNORR                  60\n",
       "3  Doritos    DORITOS                  55\n",
       "4    Kraft      KRAFT                  28"
      ]
     },
     "execution_count": 143,
     "metadata": {},
     "output_type": "execute_result"
    }
   ],
   "source": [
    "brands = brand_with_most(db,\n",
    "                         sort_by_col=func.count(Transaction.id), \n",
    "                         col_label=\"total_transactions\",\n",
    "                         start_date=start_of_month(fake_date_now, -6), \n",
    "                         end_date=start_of_month(fake_date_now, 0), \n",
    "                         limit=5)\n",
    "brands"
   ]
  }
 ],
 "metadata": {
  "kernelspec": {
   "display_name": "git_fetch-rewards-oa-N87RoZ4Q",
   "language": "python",
   "name": "python3"
  },
  "language_info": {
   "codemirror_mode": {
    "name": "ipython",
    "version": 3
   },
   "file_extension": ".py",
   "mimetype": "text/x-python",
   "name": "python",
   "nbconvert_exporter": "python",
   "pygments_lexer": "ipython3",
   "version": "3.11.7"
  }
 },
 "nbformat": 4,
 "nbformat_minor": 2
}
